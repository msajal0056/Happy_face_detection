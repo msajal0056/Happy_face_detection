{
 "cells": [
  {
   "cell_type": "markdown",
   "metadata": {},
   "source": [
    "# Emotion Detection Model using Keras"
   ]
  },
  {
   "cell_type": "code",
   "execution_count": 44,
   "metadata": {},
   "outputs": [],
   "source": [
    "import numpy as np\n",
    "import math\n",
    "from keras import layers\n",
    "from keras.layers import Input, Dense, Activation, ZeroPadding2D, BatchNormalization, Flatten, Conv2D\n",
    "from keras.layers import AveragePooling2D, MaxPooling2D, Dropout, GlobalMaxPooling2D, GlobalAveragePooling2D\n",
    "from keras.models import Model\n",
    "from keras.preprocessing import image\n",
    "from keras.utils import layer_utils\n",
    "from keras.utils.data_utils import get_file\n",
    "from keras.applications.imagenet_utils import preprocess_input\n",
    "from IPython.display import SVG\n",
    "from keras.utils.vis_utils import model_to_dot\n",
    "from keras.utils import plot_model\n",
    "\n",
    "import keras.backend as K\n",
    "import h5py\n",
    "K.set_image_data_format('channels_last')\n",
    "import matplotlib.pyplot as plt\n",
    "from matplotlib.pyplot import imshow\n",
    "\n",
    "%matplotlib inline"
   ]
  },
  {
   "cell_type": "code",
   "execution_count": 16,
   "metadata": {},
   "outputs": [],
   "source": [
    "def load_dataset():\n",
    "    train_dataset = h5py.File('C:/Users/user/Downloads/train_happy.h5', \"r\")\n",
    "    \n",
    "    train_set_x_orig = np.array(train_dataset[\"train_set_x\"][:]) # train set features\n",
    "    train_set_y_orig = np.array(train_dataset[\"train_set_y\"][:]) # train set labels\n",
    "\n",
    "    test_dataset = h5py.File('C:/Users/user/Downloads/test_happy.h5', \"r\")\n",
    "    test_set_x_orig = np.array(test_dataset[\"test_set_x\"][:]) # test set features\n",
    "    test_set_y_orig = np.array(test_dataset[\"test_set_y\"][:]) # test set labels\n",
    "\n",
    "    classes = np.array(test_dataset[\"list_classes\"][:]) # the list of classes\n",
    "    \n",
    "    train_set_y_orig = train_set_y_orig.reshape((1, train_set_y_orig.shape[0]))\n",
    "    test_set_y_orig = test_set_y_orig.reshape((1, test_set_y_orig.shape[0]))\n",
    "    \n",
    "    return train_set_x_orig, train_set_y_orig, test_set_x_orig, test_set_y_orig, classes\n"
   ]
  },
  {
   "cell_type": "code",
   "execution_count": 17,
   "metadata": {},
   "outputs": [
    {
     "name": "stdout",
     "output_type": "stream",
     "text": [
      "number of training examples = 600\n",
      "number of test examples = 150\n",
      "X_train shape: (600, 64, 64, 3)\n",
      "Y_train shape: (600, 1)\n",
      "X_test shape: (150, 64, 64, 3)\n",
      "Y_test shape: (150, 1)\n"
     ]
    }
   ],
   "source": [
    "X_train_orig, Y_train_orig, X_test_orig, Y_test_orig, classes = load_dataset()\n",
    "\n",
    "# Normalize image vectors\n",
    "X_train = X_train_orig/255.\n",
    "X_test = X_test_orig/255.\n",
    "\n",
    "# Reshape\n",
    "Y_train = Y_train_orig.T\n",
    "Y_test = Y_test_orig.T\n",
    "\n",
    "print (\"number of training examples = \" + str(X_train.shape[0]))\n",
    "print (\"number of test examples = \" + str(X_test.shape[0]))\n",
    "print (\"X_train shape: \" + str(X_train.shape))\n",
    "print (\"Y_train shape: \" + str(Y_train.shape))\n",
    "print (\"X_test shape: \" + str(X_test.shape))\n",
    "print (\"Y_test shape: \" + str(Y_test.shape))"
   ]
  },
  {
   "cell_type": "code",
   "execution_count": 18,
   "metadata": {},
   "outputs": [],
   "source": [
    "def EmotionModel(input_shape):\n",
    "    \n",
    "    X_input = Input(input_shape)\n",
    "    X = ZeroPadding2D((3,3))(X_input)\n",
    "    \n",
    "    X = Conv2D(32, (7, 7), strides = (1, 1), name = 'conv0')(X)\n",
    "    X = BatchNormalization(axis = 3, name = 'bn0')(X)\n",
    "    X = Activation('relu')(X)\n",
    "    \n",
    "    X = MaxPooling2D((2, 2), name='max_pool')(X)\n",
    "    \n",
    "    X = Flatten()(X)\n",
    "    X = Dense(1, activation='sigmoid',name='fc')(X)\n",
    "    \n",
    "    model = Model(inputs= X_input, outputs= X, name= 'HappyModel')\n",
    "    \n",
    "    return model"
   ]
  },
  {
   "cell_type": "code",
   "execution_count": 19,
   "metadata": {},
   "outputs": [],
   "source": [
    "Emotion_model = EmotionModel(X_train.shape[1:])"
   ]
  },
  {
   "cell_type": "code",
   "execution_count": 20,
   "metadata": {},
   "outputs": [],
   "source": [
    "Emotion_model.compile(optimizer= 'adam',loss= 'binary_crossentropy',metrics = [\"accuracy\"])"
   ]
  },
  {
   "cell_type": "code",
   "execution_count": 21,
   "metadata": {},
   "outputs": [
    {
     "name": "stdout",
     "output_type": "stream",
     "text": [
      "Epoch 1/20\n",
      "10/10 [==============================] - 9s 705ms/step - loss: 3.0515 - accuracy: 0.5126\n",
      "Epoch 2/20\n",
      "10/10 [==============================] - 11s 1s/step - loss: 0.9450 - accuracy: 0.6246\n",
      "Epoch 3/20\n",
      "10/10 [==============================] - 13s 1s/step - loss: 0.4455 - accuracy: 0.7944\n",
      "Epoch 4/20\n",
      "10/10 [==============================] - 12s 1s/step - loss: 0.3446 - accuracy: 0.8645\n",
      "Epoch 5/20\n",
      "10/10 [==============================] - 11s 1s/step - loss: 0.1927 - accuracy: 0.9186\n",
      "Epoch 6/20\n",
      "10/10 [==============================] - 11s 1s/step - loss: 0.1622 - accuracy: 0.9551\n",
      "Epoch 7/20\n",
      "10/10 [==============================] - 11s 1s/step - loss: 0.1126 - accuracy: 0.9677\n",
      "Epoch 8/20\n",
      "10/10 [==============================] - 12s 1s/step - loss: 0.1310 - accuracy: 0.9567\n",
      "Epoch 9/20\n",
      "10/10 [==============================] - 10s 957ms/step - loss: 0.0877 - accuracy: 0.9682\n",
      "Epoch 10/20\n",
      "10/10 [==============================] - 12s 1s/step - loss: 0.0781 - accuracy: 0.9742\n",
      "Epoch 11/20\n",
      "10/10 [==============================] - 12s 1s/step - loss: 0.0703 - accuracy: 0.9718\n",
      "Epoch 12/20\n",
      "10/10 [==============================] - 12s 1s/step - loss: 0.0709 - accuracy: 0.9871\n",
      "Epoch 13/20\n",
      "10/10 [==============================] - 11s 1s/step - loss: 0.0543 - accuracy: 0.9906\n",
      "Epoch 14/20\n",
      "10/10 [==============================] - 11s 1s/step - loss: 0.0473 - accuracy: 0.9895\n",
      "Epoch 15/20\n",
      "10/10 [==============================] - 9s 915ms/step - loss: 0.0645 - accuracy: 0.9720\n",
      "Epoch 16/20\n",
      "10/10 [==============================] - 11s 1s/step - loss: 0.0441 - accuracy: 0.9887\n",
      "Epoch 17/20\n",
      "10/10 [==============================] - 11s 1s/step - loss: 0.0553 - accuracy: 0.9876\n",
      "Epoch 18/20\n",
      "10/10 [==============================] - 10s 1s/step - loss: 0.0849 - accuracy: 0.9756\n",
      "Epoch 19/20\n",
      "10/10 [==============================] - 10s 926ms/step - loss: 0.0625 - accuracy: 0.9720\n",
      "Epoch 20/20\n",
      "10/10 [==============================] - 11s 1s/step - loss: 0.0406 - accuracy: 0.9818\n"
     ]
    },
    {
     "data": {
      "text/plain": [
       "<tensorflow.python.keras.callbacks.History at 0x15d13fd5fd0>"
      ]
     },
     "execution_count": 21,
     "metadata": {},
     "output_type": "execute_result"
    }
   ],
   "source": [
    "Emotion_model.fit(x = X_train, y = Y_train, epochs= 20, batch_size = 64)"
   ]
  },
  {
   "cell_type": "code",
   "execution_count": 22,
   "metadata": {},
   "outputs": [
    {
     "name": "stdout",
     "output_type": "stream",
     "text": [
      "5/5 [==============================] - 1s 90ms/step - loss: 0.3459 - accuracy: 0.8267\n",
      "Loss = 0.34591060876846313\n",
      "Test Accuracy = 0.8266666531562805\n"
     ]
    }
   ],
   "source": [
    "preds = Emotion_model.evaluate(x= X_test, y = Y_test)\n",
    "print (\"Loss = \" + str(preds[0]))\n",
    "print (\"Test Accuracy = \" + str(preds[1]))"
   ]
  },
  {
   "cell_type": "code",
   "execution_count": 34,
   "metadata": {},
   "outputs": [
    {
     "name": "stdout",
     "output_type": "stream",
     "text": [
      "Person is Happy\n"
     ]
    },
    {
     "data": {
      "image/png": "[encoded data removed]",
      "text/plain": [
       "<Figure size 432x288 with 1 Axes>"
      ]
     },
     "metadata": {
      "needs_background": "light"
     },
     "output_type": "display_data"
    }
   ],
   "source": [
    "img_path1 = 'C:/Users/user/Downloads/happy_face.png'\n",
    "\n",
    "img1 = image.load_img(img_path1, target_size=(64, 64))\n",
    "imshow(img1)\n",
    "\n",
    "x = image.img_to_array(img1)\n",
    "x = np.expand_dims(x, axis=0)\n",
    "x = preprocess_input(x)\n",
    "\n",
    "if Emotion_model.predict(x)[0][0]:\n",
    "    print(\"Person is Happy\")\n",
    "else:\n",
    "    print(\"Person is Sad\")"
   ]
  },
  {
   "cell_type": "code",
   "execution_count": null,
   "metadata": {},
   "outputs": [],
   "source": []
  }
 ],
 "metadata": {
  "kernelspec": {
   "display_name": "Python 3",
   "language": "python",
   "name": "python3"
  },
  "language_info": {
   "codemirror_mode": {
    "name": "ipython",
    "version": 3
   },
   "file_extension": ".py",
   "mimetype": "text/x-python",
   "name": "python",
   "nbconvert_exporter": "python",
   "pygments_lexer": "ipython3",
   "version": "3.8.5"
  }
 },
 "nbformat": 4,
 "nbformat_minor": 4
}
